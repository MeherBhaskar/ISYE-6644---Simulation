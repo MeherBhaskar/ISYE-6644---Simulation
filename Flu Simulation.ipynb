{
 "cells": [
  {
   "cell_type": "code",
   "execution_count": 1,
   "id": "c9a5a3d7",
   "metadata": {},
   "outputs": [],
   "source": [
    "import numpy as np\n",
    "\n",
    "prob_infect = 0.02\n",
    "students = []\n",
    "NUM_DAYS_SIM = 45\n",
    "num_replications = 1000\n",
    "\n",
    "class student:\n",
    "    def __init__(self):\n",
    "        self.curr_infected = False\n",
    "        self.prev_infected = False\n",
    "        self.is_infectious = False\n",
    "        self.num_days_infectious = 0\n",
    "    \n",
    "    def get_infected(self):\n",
    "        # Can be infected only if not infected in the past\n",
    "        if self.prev_infected == False:\n",
    "            self.curr_infected = True\n",
    "            self.is_infectious = True\n",
    "            self.num_days_infectious = 3\n",
    "\n",
    "    def fully_recover(self):\n",
    "        self.curr_infected = False\n",
    "        self.is_infectious = False\n",
    "        self.prev_infected = True\n",
    "    \n",
    "    def partial_recover(self):\n",
    "        if self.curr_infected == True:\n",
    "            self.num_days_infectious -= 1\n",
    "            if self.num_days_infectious == 0:\n",
    "                self.fully_recover()\n",
    "            else :\n",
    "                return\n",
    "\n",
    "# Stats collected at end of each day\n",
    "def update_daily_new_infected():\n",
    "    daily_new_infected.append(sum([1 if x.curr_infected == True and x.num_days_infectious == 3 else 0 for x in students]))\n",
    "\n",
    "def update_daily_total_infected():\n",
    "    daily_infected.append(sum([1 if x.curr_infected == True else 0 for x in students]))\n",
    "    \n",
    "def update_daily_recoveries():\n",
    "    daily_recovered.append(sum([1 if (x.prev_infected == True ) else 0 for x in students]))\n",
    "\n",
    "def update_daily_susceptible():\n",
    "    daily_susceptible.append(sum([1 if (x.prev_infected == False and x.curr_infected == False) else 0 for x in students]))\n",
    "    \n",
    "def simulate_day():\n",
    "    # Assumption - All 21 students attend school everyday\n",
    "    # Every student interacts with every other student\n",
    "    # Cannot catch infection after recovery - [Change student.prev_infected == True block if that's not the case]\n",
    "    \n",
    "    curr_infected = daily_infected[-1]\n",
    "    student_ctr = 0 \n",
    "    for student in students:\n",
    "        student_ctr+=1\n",
    "#         print('With Student {}'.format)\n",
    "        if student.curr_infected == True:\n",
    "            student.partial_recover()\n",
    "            \n",
    "        elif student.prev_infected == True:\n",
    "            continue\n",
    "            \n",
    "        else:\n",
    "#             print('~~~~~~ Student {} is currently uninfected ~~~~~~ '.format(student_ctr))\n",
    "            for i in range(curr_infected): # Bernoulli trial for getting infected from any of the affected students\n",
    "                trial_prob = np.random.random(1)\n",
    "#                 print('~~ Intreaction with student {} gave trial prob {}'.format(i, trial_prob))\n",
    "                if trial_prob < prob_infect:\n",
    "                    student.get_infected()\n",
    "                 \n",
    "    \n",
    "    update_daily_new_infected()\n",
    "    update_daily_total_infected()\n",
    "    update_daily_recoveries()\n",
    "    update_daily_susceptible()\n",
    "\n",
    "\n",
    "all_runs_cuml_daily_infected = []\n",
    "all_runs_daily_recovered = []\n",
    "all_runs_daily_susceptible = []\n",
    "all_runs_daily_infected = []\n",
    "\n",
    "for i in range(num_replications):\n",
    "    daily_infected = []\n",
    "    daily_recovered = []\n",
    "    daily_susceptible = []\n",
    "    daily_new_infected = []\n",
    "    \n",
    "    # Set seed\n",
    "    np.random.seed(i*10)\n",
    "    \n",
    "    # LOOP STARTS HERE\n",
    "    students = [student() for i in range(21)]\n",
    "    \n",
    "    \n",
    "    # Day 0 - Tommy infected\n",
    "    curr_day = 0\n",
    "    students[0].get_infected()\n",
    "    update_daily_new_infected()\n",
    "    update_daily_total_infected()\n",
    "    update_daily_recoveries()\n",
    "    update_daily_susceptible()\n",
    "\n",
    "    for i in range(1, NUM_DAYS_SIM):\n",
    "#         print('~~~~~~~~ Day : {} ~~~~~~~~ '.format(i))\n",
    "        simulate_day()\n",
    "    \n",
    "    all_runs_daily_infected.append(daily_infected)\n",
    "    all_runs_cuml_daily_infected.append(np.cumsum(daily_infected))\n",
    "    all_runs_daily_recovered.append(daily_recovered)\n",
    "    all_runs_daily_susceptible.append(daily_susceptible)"
   ]
  },
  {
   "cell_type": "code",
   "execution_count": 2,
   "id": "3e1e406c",
   "metadata": {},
   "outputs": [],
   "source": [
    "avg_daily_cuml_infected = np.mean(all_runs_cuml_daily_infected, axis = 0)\n",
    "avg_daily_infected = np.mean(all_runs_daily_infected, axis = 0)\n",
    "avg_daily_recovery = np.mean(all_runs_daily_recovered, axis = 0)\n",
    "avg_daily_susceptible = np.mean(all_runs_daily_susceptible, axis = 0)"
   ]
  },
  {
   "cell_type": "code",
   "execution_count": 3,
   "id": "488e69c0",
   "metadata": {},
   "outputs": [
    {
     "data": {
      "text/plain": [
       "Text(0.5, 1.0, 'Disease Propogation')"
      ]
     },
     "execution_count": 3,
     "metadata": {},
     "output_type": "execute_result"
    },
    {
     "data": {
      "image/png": "[encoded data removed]",
      "text/plain": [
       "<Figure size 432x288 with 1 Axes>"
      ]
     },
     "metadata": {
      "needs_background": "light"
     },
     "output_type": "display_data"
    }
   ],
   "source": [
    "from matplotlib import pyplot as plt\n",
    "import numpy as np\n",
    "\n",
    "\n",
    "plt.plot(range(1,len(avg_daily_susceptible)+1), avg_daily_susceptible)\n",
    "plt.plot(range(1,len(avg_daily_infected)+1), avg_daily_infected)\n",
    "plt.plot(range(1,len(avg_daily_recovery)+1), avg_daily_recovery)\n",
    "\n",
    "plt.legend(['Susceptible', 'Infected', 'Recovered'], loc=1)\n",
    "plt.xlabel('Day')\n",
    "plt.ylabel('Count')\n",
    "plt.title('Disease Propogation')"
   ]
  },
  {
   "cell_type": "code",
   "execution_count": 8,
   "id": "18878070",
   "metadata": {},
   "outputs": [
    {
     "data": {
      "image/png": "[encoded data removed]",
      "text/plain": [
       "<Figure size 432x288 with 1 Axes>"
      ]
     },
     "metadata": {
      "needs_background": "light"
     },
     "output_type": "display_data"
    }
   ],
   "source": [
    "plt.bar(range(1,len(avg_daily_susceptible)+1),avg_daily_infected)\n",
    "plt.title('Average daily infections after 10K runs')\n",
    "plt.xlabel('Day')\n",
    "plt.ylabel('Number of infections')\n",
    "plt.show()"
   ]
  },
  {
   "cell_type": "code",
   "execution_count": 5,
   "id": "e52aaef3",
   "metadata": {},
   "outputs": [],
   "source": [
    "# Distribution of number of kids tommy infects on Day 1 - Binomial\n",
    "# Expected number of kids tomy infects on day 1 = 0.8 (cell below)\n",
    "# Expected number of kids infected on day 2 = 2.2 (2 cells below)"
   ]
  },
  {
   "cell_type": "code",
   "execution_count": 6,
   "id": "202f5b1b",
   "metadata": {},
   "outputs": [
    {
     "data": {
      "text/plain": [
       "array([1.000e+00, 1.390e+00, 1.933e+00, 1.662e+00, 1.794e+00, 1.805e+00,\n",
       "       1.622e+00, 1.532e+00, 1.348e+00, 1.098e+00, 8.590e-01, 6.540e-01,\n",
       "       4.770e-01, 3.770e-01, 2.770e-01, 2.040e-01, 1.530e-01, 1.120e-01,\n",
       "       8.600e-02, 5.500e-02, 3.900e-02, 2.100e-02, 1.100e-02, 4.000e-03,\n",
       "       2.000e-03, 1.000e-03, 1.000e-03, 1.000e-03, 1.000e-03, 0.000e+00,\n",
       "       0.000e+00, 0.000e+00, 0.000e+00, 0.000e+00, 0.000e+00, 0.000e+00,\n",
       "       0.000e+00, 0.000e+00, 0.000e+00, 0.000e+00, 0.000e+00, 0.000e+00,\n",
       "       0.000e+00, 0.000e+00, 0.000e+00])"
      ]
     },
     "execution_count": 6,
     "metadata": {},
     "output_type": "execute_result"
    }
   ],
   "source": [
    "avg_daily_infected"
   ]
  },
  {
   "cell_type": "code",
   "execution_count": 7,
   "id": "7548987f",
   "metadata": {},
   "outputs": [
    {
     "data": {
      "text/plain": [
       "array([ 1.    ,  2.4058,  4.3364,  5.9773,  7.7394,  9.5207, 11.0949,\n",
       "       12.5525, 13.8168, 14.8429, 15.6595, 16.2727, 16.7275, 17.0578,\n",
       "       17.2923, 17.4545, 17.5667, 17.6428, 17.6973, 17.7317, 17.7552,\n",
       "       17.7681, 17.7758, 17.7801, 17.7827, 17.7843, 17.785 , 17.7853,\n",
       "       17.7855, 17.7856, 17.7857, 17.7858, 17.7858, 17.7858, 17.7858,\n",
       "       17.7858, 17.7858, 17.7858, 17.7858, 17.7858, 17.7858, 17.7858,\n",
       "       17.7858, 17.7858, 17.7858])"
      ]
     },
     "execution_count": 7,
     "metadata": {},
     "output_type": "execute_result"
    }
   ],
   "source": [
    "avg_daily_cuml_infected"
   ]
  },
  {
   "cell_type": "code",
   "execution_count": null,
   "id": "a59c093b",
   "metadata": {},
   "outputs": [],
   "source": []
  }
 ],
 "metadata": {
  "kernelspec": {
   "display_name": "Python 3 (ipykernel)",
   "language": "python",
   "name": "python3"
  },
  "language_info": {
   "codemirror_mode": {
    "name": "ipython",
    "version": 3
   },
   "file_extension": ".py",
   "mimetype": "text/x-python",
   "name": "python",
   "nbconvert_exporter": "python",
   "pygments_lexer": "ipython3",
   "version": "3.9.7"
  }
 },
 "nbformat": 4,
 "nbformat_minor": 5
}
